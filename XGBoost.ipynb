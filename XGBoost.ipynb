{
  "nbformat": 4,
  "nbformat_minor": 0,
  "metadata": {
    "colab": {
      "name": "XGBoost.ipynb",
      "version": "0.3.2",
      "provenance": [],
      "collapsed_sections": []
    },
    "kernelspec": {
      "name": "python3",
      "display_name": "Python 3"
    }
  },
  "cells": [
    {
      "metadata": {
        "id": "aZttaHucipJm",
        "colab_type": "text"
      },
      "cell_type": "markdown",
      "source": [
        "**XGBoost**\n",
        "\n",
        "This notebook contains the python code to construct a simple XGBoost Algorithm from scratch. The loss function chosen is the negative log-likelihood (Binary Cross Entropy) with the logit transformation on the predicted scores.\n",
        "\n",
        "The dataset used here is an email spam dataset. This dataset has 57 continuous predictors and 1 nominal class label, {0, 1}."
      ]
    },
    {
      "metadata": {
        "id": "t-A0M9mZjqiS",
        "colab_type": "code",
        "colab": {}
      },
      "cell_type": "code",
      "source": [
        "import numpy as np\n",
        "import pandas as pd\n",
        "import matplotlib.pyplot as plt\n",
        "from sklearn.model_selection import train_test_split\n",
        "from sklearn.tree import DecisionTreeRegressor\n",
        "from sklearn.model_selection import KFold\n",
        "from mpl_toolkits.mplot3d import Axes3D"
      ],
      "execution_count": 0,
      "outputs": []
    },
    {
      "metadata": {
        "id": "RNX64KNCjuzJ",
        "colab_type": "text"
      },
      "cell_type": "markdown",
      "source": [
        "Load the data and do the training and testing dataset split"
      ]
    },
    {
      "metadata": {
        "id": "4VFyg4iQju8a",
        "colab_type": "code",
        "outputId": "8b454c02-a74c-4d98-9e32-a899098f5cdc",
        "colab": {
          "base_uri": "https://localhost:8080/",
          "height": 34
        }
      },
      "cell_type": "code",
      "source": [
        "# load data \n",
        "data = pd.read_csv(\n",
        "    'http://archive.ics.uci.edu/ml/machine-learning-databases/spambase/spambase.data', header=None)\n",
        "p_ = data.shape[1]\n",
        "p = p_ - 1\n",
        "X = data.iloc[:, :p]\n",
        "y = data.iloc[:, p]\n",
        "\n",
        "# split the data to training set and testing test\n",
        "# the training set will be used to choose hyperparameters\n",
        "X_train, X_test, y_train, y_test = train_test_split(\n",
        "    X, y, test_size=0.2, random_state=0)\n",
        "X_train, X_test, y_train, y_test = X_train.values, X_test.values, y_train.values, y_test.values\n",
        "\n",
        "print(X_train.shape,X_test.shape,y_train.shape,y_test.shape)"
      ],
      "execution_count": 2,
      "outputs": [
        {
          "output_type": "stream",
          "text": [
            "(3680, 57) (921, 57) (3680,) (921,)\n"
          ],
          "name": "stdout"
        }
      ]
    },
    {
      "metadata": {
        "id": "emaJy8gUj30Z",
        "colab_type": "text"
      },
      "cell_type": "markdown",
      "source": [
        "**XGB Function class**"
      ]
    },
    {
      "metadata": {
        "id": "8_wFfFQhj4Bz",
        "colab_type": "code",
        "colab": {}
      },
      "cell_type": "code",
      "source": [
        "# define a function or class to implement the xgboost\n",
        "#########################################################\n",
        "\n",
        "class XGBOOST():\n",
        "    def __init__(self, min_impurity_decrease=0.01, M=5):\n",
        "        self.min_impurity_decrease = min_impurity_decrease\n",
        "        self.M = int(M)\n",
        "        self.weak_classifer = []\n",
        "        self.score = None\n",
        "        self.score_t = None\n",
        "        self.training_acc = []\n",
        "        self.testing_acc = []\n",
        "    \n",
        "    def update_y(self,y,s):\n",
        "        \n",
        "        # Use the Negative Log-Lik Loss with logit transformation to score\n",
        "        neg_first_order = y-1/(1+np.exp(-s))\n",
        "        second_order = np.exp(-s)/((1+np.exp(-s))**2) + 0.01\n",
        "        return neg_first_order,second_order\n",
        "    \n",
        "    def score_to_label(self,score):\n",
        "        \n",
        "        # Transfer the score values to the classification labels\n",
        "        train_pred = 1/(1+np.exp(-score))\n",
        "        train_pred[train_pred<=0.5] = 0\n",
        "        train_pred[train_pred>0.5] = 1\n",
        "        return train_pred\n",
        "\n",
        "    def training(self, train_features, train_labels):\n",
        "        \n",
        "        n = train_features.shape[0]\n",
        "        self.score = np.zeros(n)\n",
        "        y_new = train_labels\n",
        "        sample_weights = [1/len(y_new) for i in range(len(y_new))]\n",
        "        \n",
        "        for i in range(self.M):\n",
        "            \n",
        "            # Train the week classifier: a Tree model\n",
        "            dt = DecisionTreeRegressor(min_impurity_decrease=self.min_impurity_decrease)\n",
        "            dt.fit(train_features,y_new,sample_weight=sample_weights)\n",
        "            self.weak_classifer.append(dt) # Store the trained week classifier\n",
        "            \n",
        "            # calculate and sum up the object score\n",
        "            s = dt.predict(train_features)\n",
        "            self.score =  self.score + s\n",
        "            first,second = self.update_y(train_labels,self.score)\n",
        "            y_new = first/second\n",
        "            sample_weights = second\n",
        "            \n",
        "            # Calculate and store the trainig accuracy\n",
        "            train_pred = self.score_to_label(self.score)\n",
        "            acc = sum(train_pred==train_labels)/n\n",
        "            self.training_acc.append(acc)\n",
        "            \n",
        "            # Print out the training process\n",
        "            #print('Adding Tree %d, the training accuracy is %f' %(i+1,acc))\n",
        "            \n",
        "        return acc\n",
        "\n",
        "    def testing(self, test_features, test_labels):\n",
        "        \n",
        "        k = test_features.shape[0]\n",
        "        self.score_t = np.zeros(k)\n",
        "        \n",
        "        for i,wc in enumerate(self.weak_classifer):\n",
        "          \n",
        "            # Caculate and sum up the object score\n",
        "            self.score_t = self.score_t + wc.predict(test_features)\n",
        "            \n",
        "            # Calculate and store the testing accuracy\n",
        "            test_pred = self.score_to_label(self.score_t)\n",
        "            acc_t = sum(test_pred==test_labels)/k\n",
        "            self.testing_acc.append(acc_t)\n",
        "            \n",
        "            # Print out the testing accuracy when adding tree\n",
        "            #print('Adding Tree %d, the training accuracy is %f' %(i+1,acc_t))\n",
        "         \n",
        "        return acc_t\n",
        "\n",
        "#########################################################"
      ],
      "execution_count": 0,
      "outputs": []
    },
    {
      "metadata": {
        "id": "smB7RiKikbS3",
        "colab_type": "text"
      },
      "cell_type": "markdown",
      "source": [
        "Try the training and testing"
      ]
    },
    {
      "metadata": {
        "id": "mIrZ2mj2kRwR",
        "colab_type": "code",
        "outputId": "362a7d9c-06bd-4aa8-8e12-bb2e3e3e4b2c",
        "colab": {
          "base_uri": "https://localhost:8080/",
          "height": 408
        }
      },
      "cell_type": "code",
      "source": [
        "xgb = XGBOOST(min_impurity_decrease=0.01,M=10)\n",
        "print('Start Training the XGB')\n",
        "xgb.training(X_train,y_train)\n",
        "print('Start Testing the XGB model')\n",
        "xgb.testing(X_test,y_test)"
      ],
      "execution_count": 5,
      "outputs": [
        {
          "output_type": "stream",
          "text": [
            "Start Training the XGB\n",
            "Adding Tree 1, the training accuracy is 0.388587\n",
            "Adding Tree 2, the training accuracy is 0.947283\n",
            "Adding Tree 3, the training accuracy is 0.961685\n",
            "Adding Tree 4, the training accuracy is 0.985598\n",
            "Adding Tree 5, the training accuracy is 0.992663\n",
            "Adding Tree 6, the training accuracy is 0.997011\n",
            "Adding Tree 7, the training accuracy is 0.998098\n",
            "Adding Tree 8, the training accuracy is 0.998370\n",
            "Adding Tree 9, the training accuracy is 0.998098\n",
            "Adding Tree 10, the training accuracy is 0.998098\n",
            "Start Testing the XGB model\n",
            "Adding Tree 1, the training accuracy is 0.415852\n",
            "Adding Tree 2, the training accuracy is 0.920738\n",
            "Adding Tree 3, the training accuracy is 0.930510\n",
            "Adding Tree 4, the training accuracy is 0.933768\n",
            "Adding Tree 5, the training accuracy is 0.928339\n",
            "Adding Tree 6, the training accuracy is 0.928339\n",
            "Adding Tree 7, the training accuracy is 0.930510\n",
            "Adding Tree 8, the training accuracy is 0.932682\n",
            "Adding Tree 9, the training accuracy is 0.932682\n",
            "Adding Tree 10, the training accuracy is 0.932682\n"
          ],
          "name": "stdout"
        },
        {
          "output_type": "execute_result",
          "data": {
            "text/plain": [
              "0.9326818675352877"
            ]
          },
          "metadata": {
            "tags": []
          },
          "execution_count": 5
        }
      ]
    },
    {
      "metadata": {
        "id": "SWrUo_UCkl8u",
        "colab_type": "text"
      },
      "cell_type": "markdown",
      "source": [
        "**Cross Validation**\n",
        "\n",
        "Do the cross validation to choose the proper value for the hyper parameter."
      ]
    },
    {
      "metadata": {
        "id": "9qrarqU0kmFH",
        "colab_type": "code",
        "outputId": "73bf0845-e307-461f-c2bc-57d77ea7ec47",
        "colab": {
          "base_uri": "https://localhost:8080/",
          "height": 1377
        }
      },
      "cell_type": "code",
      "source": [
        "def cross_validation(log_min_impurity_decreases, Ms, n_splits=5):\n",
        "    \n",
        "    min_imp_dec = np.exp(log_min_impurity_decreases)\n",
        "    n = X_train.shape[0]\n",
        "    fold_idx = np.linspace(0,n,n_splits+1)\n",
        "    \n",
        "    n_min_imp_dec = len(log_min_impurity_decreases)\n",
        "    n_Ms = len(Ms)\n",
        "    plot_values = np.zeros(n_min_imp_dec*n_Ms*3).reshape((n_min_imp_dec*n_Ms,3))\n",
        "    \n",
        "    # Use three loops to fill in the matrix tracking all CV mean accuracy\n",
        "    for i,dec in enumerate(min_imp_dec):\n",
        "        for j,m in enumerate(Ms):\n",
        "          \n",
        "            # Record the combination of parameters used\n",
        "            plot_values[i*n_Ms+j][0] = np.log(dec)\n",
        "            plot_values[i*n_Ms+j][1] = m\n",
        "            \n",
        "            # Do the K-fold cross validation\n",
        "            mean_acc = 0\n",
        "            for k in range(n_splits):\n",
        "                xgb = XGBOOST(dec,m)\n",
        "                acc = xgb.training(np.delete(X_train,range(int(fold_idx[k]),int(fold_idx[k+1])),axis=0),\\\n",
        "                                   np.delete(y_train,range(int(fold_idx[k]),int(fold_idx[k+1]))))\n",
        "                acc_t = xgb.testing(X_train[range(int(fold_idx[k]),int(fold_idx[k+1])),:],\\\n",
        "                                    y_train[range(int(fold_idx[k]),int(fold_idx[k+1]))])\n",
        "                mean_acc = mean_acc + acc_t\n",
        "            plot_values[i*n_Ms+j][2] = mean_acc/n_splits\n",
        "            print('Combination No.%d is done, the CV acc is %f' %(i*n_Ms+j+1,mean_acc/n_splits))\n",
        "    \n",
        "    # Find the combination for the largest CV mean accuracy\n",
        "    idx = np.argmax(plot_values[:,2])\n",
        "    best_log_min_impurity_decrease = plot_values[idx,0]\n",
        "    best_M = plot_values[idx,1]\n",
        "\n",
        "    return plot_values, best_log_min_impurity_decrease, best_M\n",
        "\n",
        "log_min_impurity_decreases = list(range(-8, 0))\n",
        "Ms = list(range(20, 40, 2))\n",
        "plot_values, best_log_min_impurity_decrease, best_M = cross_validation(log_min_impurity_decreases=log_min_impurity_decreases, Ms=Ms)"
      ],
      "execution_count": 7,
      "outputs": [
        {
          "output_type": "stream",
          "text": [
            "Combination No.1 is done, the CV acc is 0.938315\n",
            "Combination No.2 is done, the CV acc is 0.935870\n",
            "Combination No.3 is done, the CV acc is 0.938587\n",
            "Combination No.4 is done, the CV acc is 0.937228\n",
            "Combination No.5 is done, the CV acc is 0.937772\n",
            "Combination No.6 is done, the CV acc is 0.935326\n",
            "Combination No.7 is done, the CV acc is 0.938043\n",
            "Combination No.8 is done, the CV acc is 0.936685\n",
            "Combination No.9 is done, the CV acc is 0.937228\n",
            "Combination No.10 is done, the CV acc is 0.938315\n",
            "Combination No.11 is done, the CV acc is 0.932065\n",
            "Combination No.12 is done, the CV acc is 0.934511\n",
            "Combination No.13 is done, the CV acc is 0.932337\n",
            "Combination No.14 is done, the CV acc is 0.933696\n",
            "Combination No.15 is done, the CV acc is 0.932337\n",
            "Combination No.16 is done, the CV acc is 0.929620\n",
            "Combination No.17 is done, the CV acc is 0.935598\n",
            "Combination No.18 is done, the CV acc is 0.933696\n",
            "Combination No.19 is done, the CV acc is 0.933967\n",
            "Combination No.20 is done, the CV acc is 0.932065\n",
            "Combination No.21 is done, the CV acc is 0.932880\n",
            "Combination No.22 is done, the CV acc is 0.938587\n",
            "Combination No.23 is done, the CV acc is 0.934511\n",
            "Combination No.24 is done, the CV acc is 0.936957\n",
            "Combination No.25 is done, the CV acc is 0.933696\n",
            "Combination No.26 is done, the CV acc is 0.937500\n",
            "Combination No.27 is done, the CV acc is 0.936141\n",
            "Combination No.28 is done, the CV acc is 0.933424\n",
            "Combination No.29 is done, the CV acc is 0.937772\n",
            "Combination No.30 is done, the CV acc is 0.937228\n",
            "Combination No.31 is done, the CV acc is 0.933424\n",
            "Combination No.32 is done, the CV acc is 0.931250\n",
            "Combination No.33 is done, the CV acc is 0.934783\n",
            "Combination No.34 is done, the CV acc is 0.934511\n",
            "Combination No.35 is done, the CV acc is 0.936141\n",
            "Combination No.36 is done, the CV acc is 0.936413\n",
            "Combination No.37 is done, the CV acc is 0.932065\n",
            "Combination No.38 is done, the CV acc is 0.933696\n",
            "Combination No.39 is done, the CV acc is 0.935054\n",
            "Combination No.40 is done, the CV acc is 0.938315\n",
            "Combination No.41 is done, the CV acc is 0.941848\n",
            "Combination No.42 is done, the CV acc is 0.939674\n",
            "Combination No.43 is done, the CV acc is 0.939402\n",
            "Combination No.44 is done, the CV acc is 0.939946\n",
            "Combination No.45 is done, the CV acc is 0.939674\n",
            "Combination No.46 is done, the CV acc is 0.940489\n",
            "Combination No.47 is done, the CV acc is 0.939130\n",
            "Combination No.48 is done, the CV acc is 0.939946\n",
            "Combination No.49 is done, the CV acc is 0.939402\n",
            "Combination No.50 is done, the CV acc is 0.939946\n",
            "Combination No.51 is done, the CV acc is 0.937228\n",
            "Combination No.52 is done, the CV acc is 0.937228\n",
            "Combination No.53 is done, the CV acc is 0.937500\n",
            "Combination No.54 is done, the CV acc is 0.937500\n",
            "Combination No.55 is done, the CV acc is 0.937228\n",
            "Combination No.56 is done, the CV acc is 0.937500\n",
            "Combination No.57 is done, the CV acc is 0.937500\n",
            "Combination No.58 is done, the CV acc is 0.936957\n",
            "Combination No.59 is done, the CV acc is 0.937228\n",
            "Combination No.60 is done, the CV acc is 0.936685\n",
            "Combination No.61 is done, the CV acc is 0.924457\n",
            "Combination No.62 is done, the CV acc is 0.924457\n",
            "Combination No.63 is done, the CV acc is 0.924457\n",
            "Combination No.64 is done, the CV acc is 0.924457\n",
            "Combination No.65 is done, the CV acc is 0.924457\n",
            "Combination No.66 is done, the CV acc is 0.924457\n",
            "Combination No.67 is done, the CV acc is 0.924457\n",
            "Combination No.68 is done, the CV acc is 0.924457\n",
            "Combination No.69 is done, the CV acc is 0.924457\n",
            "Combination No.70 is done, the CV acc is 0.924457\n",
            "Combination No.71 is done, the CV acc is 0.896739\n",
            "Combination No.72 is done, the CV acc is 0.896739\n",
            "Combination No.73 is done, the CV acc is 0.896739\n",
            "Combination No.74 is done, the CV acc is 0.896739\n",
            "Combination No.75 is done, the CV acc is 0.896739\n",
            "Combination No.76 is done, the CV acc is 0.896739\n",
            "Combination No.77 is done, the CV acc is 0.896739\n",
            "Combination No.78 is done, the CV acc is 0.896739\n",
            "Combination No.79 is done, the CV acc is 0.896739\n",
            "Combination No.80 is done, the CV acc is 0.896739\n"
          ],
          "name": "stdout"
        }
      ]
    },
    {
      "metadata": {
        "id": "NkxYHupflkPD",
        "colab_type": "text"
      },
      "cell_type": "markdown",
      "source": [
        "Plot the accuracy over the hyperparameter values"
      ]
    },
    {
      "metadata": {
        "id": "a5ZBcAcjlkeb",
        "colab_type": "code",
        "outputId": "c9c9ab0f-adbe-4a79-c833-ce92c7d6fe1b",
        "colab": {
          "base_uri": "https://localhost:8080/",
          "height": 330
        }
      },
      "cell_type": "code",
      "source": [
        "fig = plt.figure()\n",
        "ax = fig.gca(projection='3d')\n",
        "ax.plot_trisurf(plot_values[:, 0], plot_values[:, 1], plot_values[:, 2], linewidth=0.2, antialiased=True)\n",
        "plt.show()"
      ],
      "execution_count": 8,
      "outputs": [
        {
          "output_type": "display_data",
          "data": {
            "image/png": "[encoded data removed]",
            "text/plain": [
              "<Figure size 576x396 with 1 Axes>"
            ]
          },
          "metadata": {
            "tags": []
          }
        }
      ]
    },
    {
      "metadata": {
        "id": "KHd8MKB9mtVI",
        "colab_type": "text"
      },
      "cell_type": "markdown",
      "source": [
        "**Fit the XGBoost Model with selected hyperparameters**"
      ]
    },
    {
      "metadata": {
        "id": "VjaFB0RpRlmz",
        "colab_type": "code",
        "outputId": "7d2c6207-1015-49b4-8cd7-da625a0a792a",
        "colab": {
          "base_uri": "https://localhost:8080/",
          "height": 34
        }
      },
      "cell_type": "code",
      "source": [
        "print('Best min_impurity_decrease is %d and the Best M is %d' %(best_log_min_impurity_decrease,best_M))"
      ],
      "execution_count": 10,
      "outputs": [
        {
          "output_type": "stream",
          "text": [
            "Best min_impurity_decrease is -4 and the Best M is 20\n"
          ],
          "name": "stdout"
        }
      ]
    },
    {
      "metadata": {
        "id": "uG9QhZ1sm0eH",
        "colab_type": "code",
        "outputId": "29297205-645c-45b5-be97-6619046b15a3",
        "colab": {
          "base_uri": "https://localhost:8080/",
          "height": 391
        }
      },
      "cell_type": "code",
      "source": [
        "xgb = XGBOOST(min_impurity_decrease=np.exp(best_log_min_impurity_decrease),M=best_M)\n",
        "print('Start Training the XGB')\n",
        "xgb.training(X_train,y_train)"
      ],
      "execution_count": 11,
      "outputs": [
        {
          "output_type": "stream",
          "text": [
            "Start Training the XGB\n",
            "Adding Tree 1, the training accuracy is 0.388587\n",
            "Adding Tree 2, the training accuracy is 0.918207\n",
            "Adding Tree 3, the training accuracy is 0.939130\n",
            "Adding Tree 4, the training accuracy is 0.963043\n",
            "Adding Tree 5, the training accuracy is 0.976359\n",
            "Adding Tree 6, the training accuracy is 0.979891\n",
            "Adding Tree 7, the training accuracy is 0.987500\n",
            "Adding Tree 8, the training accuracy is 0.989946\n",
            "Adding Tree 9, the training accuracy is 0.991848\n",
            "Adding Tree 10, the training accuracy is 0.992935\n",
            "Adding Tree 11, the training accuracy is 0.994022\n",
            "Adding Tree 12, the training accuracy is 0.993750\n",
            "Adding Tree 13, the training accuracy is 0.994022\n",
            "Adding Tree 14, the training accuracy is 0.994293\n",
            "Adding Tree 15, the training accuracy is 0.994293\n",
            "Adding Tree 16, the training accuracy is 0.994293\n",
            "Adding Tree 17, the training accuracy is 0.994293\n",
            "Adding Tree 18, the training accuracy is 0.994293\n",
            "Adding Tree 19, the training accuracy is 0.994293\n",
            "Adding Tree 20, the training accuracy is 0.994293\n"
          ],
          "name": "stdout"
        },
        {
          "output_type": "execute_result",
          "data": {
            "text/plain": [
              "0.9942934782608696"
            ]
          },
          "metadata": {
            "tags": []
          },
          "execution_count": 11
        }
      ]
    },
    {
      "metadata": {
        "id": "qjsfValSmyMn",
        "colab_type": "text"
      },
      "cell_type": "markdown",
      "source": [
        "Do the testing part"
      ]
    },
    {
      "metadata": {
        "id": "OJeMjGXmm21e",
        "colab_type": "code",
        "outputId": "bbf90df7-ce72-4cdb-e088-78d081372ed2",
        "colab": {
          "base_uri": "https://localhost:8080/",
          "height": 391
        }
      },
      "cell_type": "code",
      "source": [
        "print('Start Testing the XGB model')\n",
        "xgb.testing(X_test,y_test)"
      ],
      "execution_count": 12,
      "outputs": [
        {
          "output_type": "stream",
          "text": [
            "Start Testing the XGB model\n",
            "Adding Tree 1, the training accuracy is 0.415852\n",
            "Adding Tree 2, the training accuracy is 0.912052\n",
            "Adding Tree 3, the training accuracy is 0.921824\n",
            "Adding Tree 4, the training accuracy is 0.939197\n",
            "Adding Tree 5, the training accuracy is 0.933768\n",
            "Adding Tree 6, the training accuracy is 0.934853\n",
            "Adding Tree 7, the training accuracy is 0.935939\n",
            "Adding Tree 8, the training accuracy is 0.939197\n",
            "Adding Tree 9, the training accuracy is 0.940282\n",
            "Adding Tree 10, the training accuracy is 0.939197\n",
            "Adding Tree 11, the training accuracy is 0.939197\n",
            "Adding Tree 12, the training accuracy is 0.938111\n",
            "Adding Tree 13, the training accuracy is 0.938111\n",
            "Adding Tree 14, the training accuracy is 0.938111\n",
            "Adding Tree 15, the training accuracy is 0.938111\n",
            "Adding Tree 16, the training accuracy is 0.938111\n",
            "Adding Tree 17, the training accuracy is 0.938111\n",
            "Adding Tree 18, the training accuracy is 0.938111\n",
            "Adding Tree 19, the training accuracy is 0.938111\n",
            "Adding Tree 20, the training accuracy is 0.938111\n"
          ],
          "name": "stdout"
        },
        {
          "output_type": "execute_result",
          "data": {
            "text/plain": [
              "0.9381107491856677"
            ]
          },
          "metadata": {
            "tags": []
          },
          "execution_count": 12
        }
      ]
    }
  ]
}